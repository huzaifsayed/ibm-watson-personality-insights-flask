{
 "cells": [
  {
   "cell_type": "code",
   "execution_count": 1,
   "metadata": {},
   "outputs": [],
   "source": [
    "# Import personality Insgihts SDK\n",
    "from watson_developer_cloud import PersonalityInsightsV3"
   ]
  },
  {
   "cell_type": "code",
   "execution_count": 2,
   "metadata": {},
   "outputs": [],
   "source": [
    "# Import json\n",
    "import json"
   ]
  },
  {
   "cell_type": "code",
   "execution_count": 3,
   "metadata": {},
   "outputs": [],
   "source": [
    "# Change this with your IBM Watson Personality Insights Key\n",
    "url = 'your-ibm-watson-perosnality-insights-url'\n",
    "apikey = 'your-ibm-watson-perosnality-insights-apikey'"
   ]
  },
  {
   "cell_type": "code",
   "execution_count": 4,
   "metadata": {},
   "outputs": [
    {
     "name": "stderr",
     "output_type": "stream",
     "text": [
      "<ipython-input-4-a8bfc5d5b7ea>:1: DeprecationWarning: watson-developer-cloud moved to ibm-watson. To get updates, use the new package.\n",
      "  service = PersonalityInsightsV3(url=url , iam_apikey=apikey , version='2017-10-13' )\n"
     ]
    }
   ],
   "source": [
    "service = PersonalityInsightsV3(url=url , iam_apikey=apikey , version='2017-10-13' )"
   ]
  },
  {
   "cell_type": "code",
   "execution_count": 7,
   "metadata": {},
   "outputs": [],
   "source": [
    "with open('profile.txt', 'r') as file:\n",
    "  text = file.read()"
   ]
  },
  {
   "cell_type": "code",
   "execution_count": 8,
   "metadata": {},
   "outputs": [],
   "source": [
    "profile = service.profile(text, content_type='text/plain').get_result()"
   ]
  },
  {
   "cell_type": "code",
   "execution_count": 9,
   "metadata": {},
   "outputs": [
    {
     "name": "stdout",
     "output_type": "stream",
     "text": [
      "{\n",
      "  \"word_count\": 1365,\n",
      "  \"processed_language\": \"en\",\n",
      "  \"personality\": [\n",
      "    {\n",
      "      \"trait_id\": \"big5_openness\",\n",
      "      \"name\": \"Openness\",\n",
      "      \"category\": \"personality\",\n",
      "      \"percentile\": 0.9970814244982862,\n",
      "      \"significant\": true,\n",
      "      \"children\": [\n",
      "        {\n",
      "          \"trait_id\": \"facet_adventurousness\",\n",
      "          \"name\": \"Adventurousness\",\n",
      "          \"category\": \"personality\",\n",
      "          \"percentile\": 0.7897453561510404,\n",
      "          \"significant\": true\n",
      "        },\n",
      "        {\n",
      "          \"trait_id\": \"facet_artistic_interests\",\n",
      "          \"name\": \"Artistic interests\",\n",
      "          \"category\": \"personality\",\n",
      "          \"percentile\": 0.9946576519208276,\n",
      "          \"significant\": true\n",
      "        },\n",
      "        {\n",
      "          \"trait_id\": \"facet_emotionality\",\n",
      "          \"name\": \"Emotionality\",\n",
      "          \"category\": \"personality\",\n",
      "          \"percentile\": 0.7671631753694048,\n",
      "          \"significant\": true\n",
      "        },\n",
      "        {\n",
      "          \"trait_id\": \"facet_imagination\",\n",
      "          \"name\": \"Imagination\",\n",
      "          \"category\": \"personality\",\n",
      "          \"percentile\": 0.3116772371947263,\n",
      "          \"significant\": true\n",
      "        },\n",
      "        {\n",
      "          \"trait_id\": \"facet_intellect\",\n",
      "          \"name\": \"Intellect\",\n",
      "          \"category\": \"personality\",\n",
      "          \"percentile\": 0.9965199807027889,\n",
      "          \"significant\": true\n",
      "        },\n",
      "        {\n",
      "          \"trait_id\": \"facet_liberalism\",\n",
      "          \"name\": \"Authority-challenging\",\n",
      "          \"category\": \"personality\",\n",
      "          \"percentile\": 0.7979072721493274,\n",
      "          \"significant\": true\n",
      "        }\n",
      "      ]\n",
      "    },\n",
      "    {\n",
      "      \"trait_id\": \"big5_conscientiousness\",\n",
      "      \"name\": \"Conscientiousness\",\n",
      "      \"category\": \"personality\",\n",
      "      \"percentile\": 0.986401677449357,\n",
      "      \"significant\": true,\n",
      "      \"children\": [\n",
      "        {\n",
      "          \"trait_id\": \"facet_achievement_striving\",\n",
      "          \"name\": \"Achievement striving\",\n",
      "          \"category\": \"personality\",\n",
      "          \"percentile\": 0.8403728912342892,\n",
      "          \"significant\": true\n",
      "        },\n",
      "        {\n",
      "          \"trait_id\": \"facet_cautiousness\",\n",
      "          \"name\": \"Cautiousness\",\n",
      "          \"category\": \"personality\",\n",
      "          \"percentile\": 0.9441869457422986,\n",
      "          \"significant\": true\n",
      "        },\n",
      "        {\n",
      "          \"trait_id\": \"facet_dutifulness\",\n",
      "          \"name\": \"Dutifulness\",\n",
      "          \"category\": \"personality\",\n",
      "          \"percentile\": 0.7946276293038677,\n",
      "          \"significant\": true\n",
      "        },\n",
      "        {\n",
      "          \"trait_id\": \"facet_orderliness\",\n",
      "          \"name\": \"Orderliness\",\n",
      "          \"category\": \"personality\",\n",
      "          \"percentile\": 0.761074150640708,\n",
      "          \"significant\": true\n",
      "        },\n",
      "        {\n",
      "          \"trait_id\": \"facet_self_discipline\",\n",
      "          \"name\": \"Self-discipline\",\n",
      "          \"category\": \"personality\",\n",
      "          \"percentile\": 0.7128649175839024,\n",
      "          \"significant\": true\n",
      "        },\n",
      "        {\n",
      "          \"trait_id\": \"facet_self_efficacy\",\n",
      "          \"name\": \"Self-efficacy\",\n",
      "          \"category\": \"personality\",\n",
      "          \"percentile\": 0.6994302718651376,\n",
      "          \"significant\": true\n",
      "        }\n",
      "      ]\n",
      "    },\n",
      "    {\n",
      "      \"trait_id\": \"big5_extraversion\",\n",
      "      \"name\": \"Extraversion\",\n",
      "      \"category\": \"personality\",\n",
      "      \"percentile\": 0.08530058556548387,\n",
      "      \"significant\": true,\n",
      "      \"children\": [\n",
      "        {\n",
      "          \"trait_id\": \"facet_activity_level\",\n",
      "          \"name\": \"Activity level\",\n",
      "          \"category\": \"personality\",\n",
      "          \"percentile\": 0.9624016313415944,\n",
      "          \"significant\": true\n",
      "        },\n",
      "        {\n",
      "          \"trait_id\": \"facet_assertiveness\",\n",
      "          \"name\": \"Assertiveness\",\n",
      "          \"category\": \"personality\",\n",
      "          \"percentile\": 0.9198609213386711,\n",
      "          \"significant\": true\n",
      "        },\n",
      "        {\n",
      "          \"trait_id\": \"facet_cheerfulness\",\n",
      "          \"name\": \"Cheerfulness\",\n",
      "          \"category\": \"personality\",\n",
      "          \"percentile\": 0.2293639969883619,\n",
      "          \"significant\": true\n",
      "        },\n",
      "        {\n",
      "          \"trait_id\": \"facet_excitement_seeking\",\n",
      "          \"name\": \"Excitement-seeking\",\n",
      "          \"category\": \"personality\",\n",
      "          \"percentile\": 0.21024192850794732,\n",
      "          \"significant\": true\n",
      "        },\n",
      "        {\n",
      "          \"trait_id\": \"facet_friendliness\",\n",
      "          \"name\": \"Outgoing\",\n",
      "          \"category\": \"personality\",\n",
      "          \"percentile\": 0.7085191412979603,\n",
      "          \"significant\": true\n",
      "        },\n",
      "        {\n",
      "          \"trait_id\": \"facet_gregariousness\",\n",
      "          \"name\": \"Gregariousness\",\n",
      "          \"category\": \"personality\",\n",
      "          \"percentile\": 0.22458619358371484,\n",
      "          \"significant\": true\n",
      "        }\n",
      "      ]\n",
      "    },\n",
      "    {\n",
      "      \"trait_id\": \"big5_agreeableness\",\n",
      "      \"name\": \"Agreeableness\",\n",
      "      \"category\": \"personality\",\n",
      "      \"percentile\": 0.18753528603194114,\n",
      "      \"significant\": true,\n",
      "      \"children\": [\n",
      "        {\n",
      "          \"trait_id\": \"facet_altruism\",\n",
      "          \"name\": \"Altruism\",\n",
      "          \"category\": \"personality\",\n",
      "          \"percentile\": 0.9713302006331768,\n",
      "          \"significant\": true\n",
      "        },\n",
      "        {\n",
      "          \"trait_id\": \"facet_cooperation\",\n",
      "          \"name\": \"Cooperation\",\n",
      "          \"category\": \"personality\",\n",
      "          \"percentile\": 0.8229934901276241,\n",
      "          \"significant\": true\n",
      "        },\n",
      "        {\n",
      "          \"trait_id\": \"facet_modesty\",\n",
      "          \"name\": \"Modesty\",\n",
      "          \"category\": \"personality\",\n",
      "          \"percentile\": 0.7613188148341663,\n",
      "          \"significant\": true\n",
      "        },\n",
      "        {\n",
      "          \"trait_id\": \"facet_morality\",\n",
      "          \"name\": \"Uncompromising\",\n",
      "          \"category\": \"personality\",\n",
      "          \"percentile\": 0.9471478882849425,\n",
      "          \"significant\": true\n",
      "        },\n",
      "        {\n",
      "          \"trait_id\": \"facet_sympathy\",\n",
      "          \"name\": \"Sympathy\",\n",
      "          \"category\": \"personality\",\n",
      "          \"percentile\": 0.9991179451374892,\n",
      "          \"significant\": true\n",
      "        },\n",
      "        {\n",
      "          \"trait_id\": \"facet_trust\",\n",
      "          \"name\": \"Trust\",\n",
      "          \"category\": \"personality\",\n",
      "          \"percentile\": 0.830111046812001,\n",
      "          \"significant\": true\n",
      "        }\n",
      "      ]\n",
      "    },\n",
      "    {\n",
      "      \"trait_id\": \"big5_neuroticism\",\n",
      "      \"name\": \"Emotional range\",\n",
      "      \"category\": \"personality\",\n",
      "      \"percentile\": 0.3898815263207158,\n",
      "      \"significant\": true,\n",
      "      \"children\": [\n",
      "        {\n",
      "          \"trait_id\": \"facet_anger\",\n",
      "          \"name\": \"Fiery\",\n",
      "          \"category\": \"personality\",\n",
      "          \"percentile\": 0.013938100678606846,\n",
      "          \"significant\": true\n",
      "        },\n",
      "        {\n",
      "          \"trait_id\": \"facet_anxiety\",\n",
      "          \"name\": \"Prone to worry\",\n",
      "          \"category\": \"personality\",\n",
      "          \"percentile\": 0.06202578945407233,\n",
      "          \"significant\": true\n",
      "        },\n",
      "        {\n",
      "          \"trait_id\": \"facet_depression\",\n",
      "          \"name\": \"Melancholy\",\n",
      "          \"category\": \"personality\",\n",
      "          \"percentile\": 0.35285841125133055,\n",
      "          \"significant\": true\n",
      "        },\n",
      "        {\n",
      "          \"trait_id\": \"facet_immoderation\",\n",
      "          \"name\": \"Immoderation\",\n",
      "          \"category\": \"personality\",\n",
      "          \"percentile\": 0.011684379342278672,\n",
      "          \"significant\": true\n",
      "        },\n",
      "        {\n",
      "          \"trait_id\": \"facet_self_consciousness\",\n",
      "          \"name\": \"Self-consciousness\",\n",
      "          \"category\": \"personality\",\n",
      "          \"percentile\": 0.19347068940127599,\n",
      "          \"significant\": true\n",
      "        },\n",
      "        {\n",
      "          \"trait_id\": \"facet_vulnerability\",\n",
      "          \"name\": \"Susceptible to stress\",\n",
      "          \"category\": \"personality\",\n",
      "          \"percentile\": 0.06994539774378472,\n",
      "          \"significant\": true\n",
      "        }\n",
      "      ]\n",
      "    }\n",
      "  ],\n",
      "  \"needs\": [\n",
      "    {\n",
      "      \"trait_id\": \"need_challenge\",\n",
      "      \"name\": \"Challenge\",\n",
      "      \"category\": \"needs\",\n",
      "      \"percentile\": 0.0032546536914943025,\n",
      "      \"significant\": true\n",
      "    },\n",
      "    {\n",
      "      \"trait_id\": \"need_closeness\",\n",
      "      \"name\": \"Closeness\",\n",
      "      \"category\": \"needs\",\n",
      "      \"percentile\": 0.370227811018078,\n",
      "      \"significant\": true\n",
      "    },\n",
      "    {\n",
      "      \"trait_id\": \"need_curiosity\",\n",
      "      \"name\": \"Curiosity\",\n",
      "      \"category\": \"needs\",\n",
      "      \"percentile\": 0.845180482624851,\n",
      "      \"significant\": true\n",
      "    },\n",
      "    {\n",
      "      \"trait_id\": \"need_excitement\",\n",
      "      \"name\": \"Excitement\",\n",
      "      \"category\": \"needs\",\n",
      "      \"percentile\": 0.11505596926601463,\n",
      "      \"significant\": true\n",
      "    },\n",
      "    {\n",
      "      \"trait_id\": \"need_harmony\",\n",
      "      \"name\": \"Harmony\",\n",
      "      \"category\": \"needs\",\n",
      "      \"percentile\": 0.4664217424750164,\n",
      "      \"significant\": true\n",
      "    },\n",
      "    {\n",
      "      \"trait_id\": \"need_ideal\",\n",
      "      \"name\": \"Ideal\",\n",
      "      \"category\": \"needs\",\n",
      "      \"percentile\": 0.02263412995273051,\n",
      "      \"significant\": true\n",
      "    },\n",
      "    {\n",
      "      \"trait_id\": \"need_liberty\",\n",
      "      \"name\": \"Liberty\",\n",
      "      \"category\": \"needs\",\n",
      "      \"percentile\": 0.10802987716455864,\n",
      "      \"significant\": true\n",
      "    },\n",
      "    {\n",
      "      \"trait_id\": \"need_love\",\n",
      "      \"name\": \"Love\",\n",
      "      \"category\": \"needs\",\n",
      "      \"percentile\": 0.011895333821013376,\n",
      "      \"significant\": true\n",
      "    },\n",
      "    {\n",
      "      \"trait_id\": \"need_practicality\",\n",
      "      \"name\": \"Practicality\",\n",
      "      \"category\": \"needs\",\n",
      "      \"percentile\": 0.018888178951272094,\n",
      "      \"significant\": true\n",
      "    },\n",
      "    {\n",
      "      \"trait_id\": \"need_self_expression\",\n",
      "      \"name\": \"Self-expression\",\n",
      "      \"category\": \"needs\",\n",
      "      \"percentile\": 0.1848978280656295,\n",
      "      \"significant\": true\n",
      "    },\n",
      "    {\n",
      "      \"trait_id\": \"need_stability\",\n",
      "      \"name\": \"Stability\",\n",
      "      \"category\": \"needs\",\n",
      "      \"percentile\": 0.3946227431440061,\n",
      "      \"significant\": true\n",
      "    },\n",
      "    {\n",
      "      \"trait_id\": \"need_structure\",\n",
      "      \"name\": \"Structure\",\n",
      "      \"category\": \"needs\",\n",
      "      \"percentile\": 0.8880129689346332,\n",
      "      \"significant\": true\n",
      "    }\n",
      "  ],\n",
      "  \"values\": [\n",
      "    {\n",
      "      \"trait_id\": \"value_conservation\",\n",
      "      \"name\": \"Conservation\",\n",
      "      \"category\": \"values\",\n",
      "      \"percentile\": 0.5065929218618476,\n",
      "      \"significant\": true\n",
      "    },\n",
      "    {\n",
      "      \"trait_id\": \"value_openness_to_change\",\n",
      "      \"name\": \"Openness to change\",\n",
      "      \"category\": \"values\",\n",
      "      \"percentile\": 0.6287516949462554,\n",
      "      \"significant\": true\n",
      "    },\n",
      "    {\n",
      "      \"trait_id\": \"value_hedonism\",\n",
      "      \"name\": \"Hedonism\",\n",
      "      \"category\": \"values\",\n",
      "      \"percentile\": 0.005253658217921009,\n",
      "      \"significant\": true\n",
      "    },\n",
      "    {\n",
      "      \"trait_id\": \"value_self_enhancement\",\n",
      "      \"name\": \"Self-enhancement\",\n",
      "      \"category\": \"values\",\n",
      "      \"percentile\": 0.0011936431143393933,\n",
      "      \"significant\": true\n",
      "    },\n",
      "    {\n",
      "      \"trait_id\": \"value_self_transcendence\",\n",
      "      \"name\": \"Self-transcendence\",\n",
      "      \"category\": \"values\",\n",
      "      \"percentile\": 0.3429609693883737,\n",
      "      \"significant\": true\n",
      "    }\n",
      "  ],\n",
      "  \"warnings\": []\n",
      "}\n"
     ]
    }
   ],
   "source": [
    "print(json.dumps(profile, indent=2))"
   ]
  },
  {
   "cell_type": "code",
   "execution_count": 10,
   "metadata": {},
   "outputs": [
    {
     "data": {
      "text/plain": [
       "dict_keys(['word_count', 'processed_language', 'personality', 'needs', 'values', 'warnings'])"
      ]
     },
     "execution_count": 10,
     "metadata": {},
     "output_type": "execute_result"
    }
   ],
   "source": [
    "profile.keys()"
   ]
  },
  {
   "cell_type": "markdown",
   "metadata": {},
   "source": [
    "# visualization of insights "
   ]
  },
  {
   "cell_type": "code",
   "execution_count": 11,
   "metadata": {},
   "outputs": [],
   "source": [
    "import pandas as pd\n",
    "import matplotlib.pyplot as plt\n",
    "import seaborn as sns\n",
    "%matplotlib inline"
   ]
  },
  {
   "cell_type": "code",
   "execution_count": 12,
   "metadata": {},
   "outputs": [],
   "source": [
    "result = {need['name']:need['percentile'] for need in profile['needs']}\n",
    "df = pd.DataFrame.from_dict(result, orient='index')\n",
    "df.reset_index(inplace=True)\n",
    "df.columns = ['need', 'percentile']"
   ]
  },
  {
   "cell_type": "code",
   "execution_count": 13,
   "metadata": {},
   "outputs": [
    {
     "data": {
      "image/png": "[encoded data removed]",
      "text/plain": [
       "<Figure size 1080x360 with 1 Axes>"
      ]
     },
     "metadata": {
      "needs_background": "light"
     },
     "output_type": "display_data"
    }
   ],
   "source": [
    "plt.figure(figsize=(15, 5))\n",
    "sns.barplot(y='percentile', x='need', data=df)\n",
    "plt.show()"
   ]
  },
  {
   "cell_type": "code",
   "execution_count": 18,
   "metadata": {},
   "outputs": [],
   "source": [
    "# plotting function\n",
    "def create_trait_plots(traits):\n",
    "    result = {trait['name']: trait['percentile'] for trait in traits}\n",
    "    df = pd.DataFrame.from_dict(result, orient='index')\n",
    "    df.reset_index(inplace=True)\n",
    "    df.columns = ['name', 'percentile']\n",
    "    plt.figure(figsize=(15,5))\n",
    "    sns.barplot(y='percentile', x='name', data=df)\n",
    "    plt.show()"
   ]
  },
  {
   "cell_type": "code",
   "execution_count": 19,
   "metadata": {},
   "outputs": [
    {
     "data": {
      "image/png": "[encoded data removed]",
      "text/plain": [
       "<Figure size 1080x360 with 1 Axes>"
      ]
     },
     "metadata": {
      "needs_background": "light"
     },
     "output_type": "display_data"
    }
   ],
   "source": [
    "create_trait_plots(profile['values'])"
   ]
  },
  {
   "cell_type": "code",
   "execution_count": 20,
   "metadata": {},
   "outputs": [
    {
     "data": {
      "image/png": "[encoded data removed]",
      "text/plain": [
       "<Figure size 1080x360 with 1 Axes>"
      ]
     },
     "metadata": {
      "needs_background": "light"
     },
     "output_type": "display_data"
    },
    {
     "data": {
      "image/png": "[encoded data removed]",
      "text/plain": [
       "<Figure size 1080x360 with 1 Axes>"
      ]
     },
     "metadata": {
      "needs_background": "light"
     },
     "output_type": "display_data"
    },
    {
     "data": {
      "image/png": "[encoded data removed]",
      "text/plain": [
       "<Figure size 1080x360 with 1 Axes>"
      ]
     },
     "metadata": {
      "needs_background": "light"
     },
     "output_type": "display_data"
    },
    {
     "data": {
      "image/png": "[encoded data removed]",
      "text/plain": [
       "<Figure size 1080x360 with 1 Axes>"
      ]
     },
     "metadata": {
      "needs_background": "light"
     },
     "output_type": "display_data"
    },
    {
     "data": {
      "image/png": "[encoded data removed]",
      "text/plain": [
       "<Figure size 1080x360 with 1 Axes>"
      ]
     },
     "metadata": {
      "needs_background": "light"
     },
     "output_type": "display_data"
    },
    {
     "data": {
      "text/plain": [
       "[None, None, None, None, None]"
      ]
     },
     "execution_count": 20,
     "metadata": {},
     "output_type": "execute_result"
    }
   ],
   "source": [
    "[ create_trait_plots(big5['children']) for big5 in profile['personality']]"
   ]
  },
  {
   "cell_type": "code",
   "execution_count": null,
   "metadata": {},
   "outputs": [],
   "source": []
  }
 ],
 "metadata": {
  "kernelspec": {
   "display_name": "Python 3",
   "language": "python",
   "name": "python3"
  },
  "language_info": {
   "codemirror_mode": {
    "name": "ipython",
    "version": 3
   },
   "file_extension": ".py",
   "mimetype": "text/x-python",
   "name": "python",
   "nbconvert_exporter": "python",
   "pygments_lexer": "ipython3",
   "version": "3.8.2"
  }
 },
 "nbformat": 4,
 "nbformat_minor": 4
}
